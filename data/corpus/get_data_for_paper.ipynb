{
 "cells": [
  {
   "cell_type": "code",
   "execution_count": 1,
   "metadata": {
    "collapsed": true
   },
   "outputs": [
    {
     "ename": "ModuleNotFoundError",
     "evalue": "No module named 'research'",
     "output_type": "error",
     "traceback": [
      "\u001B[0;31m---------------------------------------------------------------------------\u001B[0m",
      "\u001B[0;31mModuleNotFoundError\u001B[0m                       Traceback (most recent call last)",
      "\u001B[0;32m<ipython-input-1-bc26d4ed9be6>\u001B[0m in \u001B[0;36m<module>\u001B[0;34m\u001B[0m\n\u001B[1;32m      1\u001B[0m \u001B[0;32mimport\u001B[0m \u001B[0mjson\u001B[0m\u001B[0;34m\u001B[0m\u001B[0;34m\u001B[0m\u001B[0m\n\u001B[0;32m----> 2\u001B[0;31m \u001B[0;32mfrom\u001B[0m \u001B[0mresearch\u001B[0m\u001B[0;34m.\u001B[0m\u001B[0mmodel_creator\u001B[0m\u001B[0;34m.\u001B[0m\u001B[0mmodels\u001B[0m \u001B[0;32mimport\u001B[0m \u001B[0mModel\u001B[0m\u001B[0;34m\u001B[0m\u001B[0;34m\u001B[0m\u001B[0m\n\u001B[0m\u001B[1;32m      3\u001B[0m \u001B[0;34m\u001B[0m\u001B[0m\n\u001B[1;32m      4\u001B[0m \u001B[0meditor_json\u001B[0m \u001B[0;34m=\u001B[0m \u001B[0;34m\"./cz/intro-cz.json\"\u001B[0m\u001B[0;34m\u001B[0m\u001B[0;34m\u001B[0m\u001B[0m\n\u001B[1;32m      5\u001B[0m \u001B[0;34m\u001B[0m\u001B[0m\n",
      "\u001B[0;31mModuleNotFoundError\u001B[0m: No module named 'research'"
     ]
    }
   ],
   "source": [
    "import json\n",
    "from research.model_creator.models import Model\n",
    "\n",
    "editor_json = \"./cz/intro-cz.json\"\n",
    "\n",
    "with open(editor_json, \"r\", encoding=\"utf-8\") as f:\n",
    "    model = Model(\"xx\", \"stage\", json.load(f))\n"
   ]
  },
  {
   "cell_type": "code",
   "execution_count": 2,
   "outputs": [],
   "source": [
    "decision_nodes = model.nlp_model.dm_examples.items()\n",
    "intent_nodes = model.nlp_model.intent_examples.items()"
   ],
   "metadata": {
    "collapsed": false,
    "pycharm": {
     "name": "#%%\n"
    }
   }
  },
  {
   "cell_type": "code",
   "execution_count": 3,
   "outputs": [
    {
     "data": {
      "text/plain": "dict_items([('stop', ['stop', ' quit', 'i want to quit', ' exit', 'i want to exit', ' close', 'i want to close', ' stop ', 'i want to stop ', ' stop it', 'i want to stop it', ' turn  off', 'i want to turn  off', ' turn you off', 'i want to turn you off', \"don't talk\", 'leave me be', \"i've had enough of this\", 'stop talking', \"i don't want to play  anymore\", \"i don't want to play any game anymore\", \"i don't want to play  \", \"i don't want to play any game \", \"i don't like this game anymore\", \"i'm not enjoying this \", \"i'm not enjoying this game\", 'this is boring', 'bye bye', 'bye', 'goodbye', 'farewell']), ('Repeat', ['repeat', 'could you repeat that ', 'can you repeat that ', 'could you repeat it ', 'can you repeat it ', 'could you repeat the question ', 'can you repeat the question ', 'could you repeat that please', 'can you repeat that please', 'could you repeat it please', 'can you repeat it please', 'could you repeat the question please', 'can you repeat the question please', 'once more ', 'once more please', 'come again', 'say that again ', 'say that again please', 'what was that', \"i didn't get that\", \"i don't understand\", 'what did you say', 'what are you saying', 'what']), ('playOtherGame', ['i want to play  more games', \"let's play  more games\", ' play  more games', 'i want to open  more games', \"let's open  more games\", ' open  more games', 'i want to start  more games', \"let's start  more games\", ' start  more games', 'i want to play some more games', \"let's play some more games\", ' play some more games', 'i want to open some more games', \"let's open some more games\", ' open some more games', 'i want to start some more games', \"let's start some more games\", ' start some more games', 'i want to play a few more games', \"let's play a few more games\", ' play a few more games', 'i want to open a few more games', \"let's open a few more games\", ' open a few more games', 'i want to start a few more games', \"let's start a few more games\", ' start a few more games', 'i want to play  other games', \"let's play  other games\", ' play  other games', 'i want to open  other games', \"let's open  other games\", ' open  other games', 'i want to start  other games', \"let's start  other games\", ' start  other games', 'i want to play some other games', \"let's play some other games\", ' play some other games', 'i want to open some other games', \"let's open some other games\", ' open some other games', 'i want to start some other games', \"let's start some other games\", ' start some other games', 'i want to play a few other games', \"let's play a few other games\", ' play a few other games', 'i want to open a few other games', \"let's open a few other games\", ' open a few other games', 'i want to start a few other games', \"let's start a few other games\", ' start a few other games', 'i want to play another  game', \"let's play another  game\", ' play another  game', 'i want to open another  game', \"let's open another  game\", ' open another  game', 'i want to start another  game', \"let's start another  game\", ' start another  game', 'i want to play a different  game', \"let's play a different  game\", ' play a different  game', 'i want to open a different  game', \"let's open a different  game\", ' open a different  game', 'i want to start a different  game', \"let's start a different  game\", ' start a different  game', 'i want to play one more  game', \"let's play one more  game\", ' play one more  game', 'i want to open one more  game', \"let's open one more  game\", ' open one more  game', 'i want to start one more  game', \"let's start one more  game\", ' start one more  game', 'i want to play another memory game', \"let's play another memory game\", ' play another memory game', 'i want to open another memory game', \"let's open another memory game\", ' open another memory game', 'i want to start another memory game', \"let's start another memory game\", ' start another memory game', 'i want to play a different memory game', \"let's play a different memory game\", ' play a different memory game', 'i want to open a different memory game', \"let's open a different memory game\", ' open a different memory game', 'i want to start a different memory game', \"let's start a different memory game\", ' start a different memory game', 'i want to play one more memory game', \"let's play one more memory game\", ' play one more memory game', 'i want to open one more memory game', \"let's open one more memory game\", ' open one more memory game', 'i want to start one more memory game', \"let's start one more memory game\", ' start one more memory game', \"i don't want to end  yet\", \"i don't want to turn you off  yet\", \"i don't want to end just yet\", \"i don't want to turn you off just yet\", \" don't turn off  yet\", \"please don't turn off  yet\", \"no don't turn off  yet\", \" don't turn off just yet\", \"please don't turn off just yet\", \"no don't turn off just yet\", \"i don't want to play this game\", \"i don't wanna play this game\", \"i don't like this game\", 'i hate this game', 'this game  sucks', 'this game really sucks', 'stop this game']), ('totalStop', ['shut up', 'stop and shut up']), ('wait', ['wait  ', 'wait a minute ', 'wait a second ', 'wait a while ', 'wait  please', 'wait a minute please', 'wait a second please', 'wait a while please', 'one moment ', 'one moment please', 'pause']), ('listOfGames', ['which  games can i play', 'what  games can i play', 'which other games can i play', 'what other games can i play', 'which  game can i play', 'what  game can i play', 'which other game can i play', 'what other game can i play', 'what else can i play', 'what can i play', 'which  games can we play', 'what  games can we play', 'which other games can we play', 'what other games can we play', 'which  game can we play', 'what  game can we play', 'which other game can we play', 'what other game can we play', 'what else can we play', 'what can we play', 'which  games can you play', 'what  games can you play', 'which other games can you play', 'what other games can you play', 'which  game can you play', 'what  game can you play', 'which other game can you play', 'what other game can you play', 'what else can you play', 'what can you play', 'which  games do you have', 'what  games do you have', 'which other games do you have', 'what other games do you have', 'which  game do you have', 'what  game do you have', 'which other game do you have', 'what other game do you have', 'what else do you have', 'what do you have', 'which  games do you know', 'what  games do you know', 'which other games do you know', 'what other games do you know', 'which  game do you know', 'what  game do you know', 'which other game do you know', 'what other game do you know', 'what else do you know', 'what do you know', 'which  games is available', 'what  games is available', 'which other games is available', 'what other games is available', 'which  game is available', 'what  game is available', 'which other game is available', 'what other game is available', 'which  games are available', 'what  games are available', 'which other games are available', 'what other games are available', 'which  game are available', 'what  game are available', 'which other game are available', 'what other game are available']), ('gamesCounter', ['how many  games have we played ', 'how many memory games have we played ', 'how many  games have i played ', 'how many memory games have i played ', 'how many  games have we played so far', 'how many memory games have we played so far', 'how many  games have i played so far', 'how many memory games have i played so far', 'how many  games have we played in this session', 'how many memory games have we played in this session', 'how many  games have i played in this session', 'how many memory games have i played in this session']), ('volumeUp', ['could you speak louder', 'can you speak louder', 'will you speak louder', 'would you speak louder', ' you speak louder', 'could  speak louder', 'can  speak louder', 'will  speak louder', 'would  speak louder', '  speak louder', 'could you talk louder', 'can you talk louder', 'will you talk louder', 'would you talk louder', ' you talk louder', 'could  talk louder', 'can  talk louder', 'will  talk louder', 'would  talk louder', '  talk louder', 'could you speak more loud', 'can you speak more loud', 'will you speak more loud', 'would you speak more loud', ' you speak more loud', 'could  speak more loud', 'can  speak more loud', 'will  speak more loud', 'would  speak more loud', '  speak more loud', 'could you talk more loud', 'can you talk more loud', 'will you talk more loud', 'would you talk more loud', ' you talk more loud', 'could  talk more loud', 'can  talk more loud', 'will  talk more loud', 'would  talk more loud', '  talk more loud', 'could you speak higher', 'can you speak higher', 'will you speak higher', 'would you speak higher', ' you speak higher', 'could  speak higher', 'can  speak higher', 'will  speak higher', 'would  speak higher', '  speak higher', 'could you talk higher', 'can you talk higher', 'will you talk higher', 'would you talk higher', ' you talk higher', 'could  talk higher', 'can  talk higher', 'will  talk higher', 'would  talk higher', '  talk higher', \"i can't hear you very well\", \"i can't hear you  well\", \"i can't hear you very \", \"i can't hear you  \", 'you are speaking too quiet', 'you are talking too quiet', 'you are  too quiet', 'you are speaking too low', 'you are talking too low', 'you are  too low', 'you are speaking too quietly', 'you are talking too quietly', 'you are  too quietly', 'volume up']), ('volumeDown', ['could you speak quiet', 'can you speak quiet', 'will you speak quiet', 'would you speak quiet', ' you speak quiet', 'could  speak quiet', 'can  speak quiet', 'will  speak quiet', 'would  speak quiet', '  speak quiet', 'could you talk quiet', 'can you talk quiet', 'will you talk quiet', 'would you talk quiet', ' you talk quiet', 'could  talk quiet', 'can  talk quiet', 'will  talk quiet', 'would  talk quiet', '  talk quiet', 'could you speak more quiet', 'can you speak more quiet', 'will you speak more quiet', 'would you speak more quiet', ' you speak more quiet', 'could  speak more quiet', 'can  speak more quiet', 'will  speak more quiet', 'would  speak more quiet', '  speak more quiet', 'could you talk more quiet', 'can you talk more quiet', 'will you talk more quiet', 'would you talk more quiet', ' you talk more quiet', 'could  talk more quiet', 'can  talk more quiet', 'will  talk more quiet', 'would  talk more quiet', '  talk more quiet', 'could you speak less loud', 'can you speak less loud', 'will you speak less loud', 'would you speak less loud', ' you speak less loud', 'could  speak less loud', 'can  speak less loud', 'will  speak less loud', 'would  speak less loud', '  speak less loud', 'could you talk less loud', 'can you talk less loud', 'will you talk less loud', 'would you talk less loud', ' you talk less loud', 'could  talk less loud', 'can  talk less loud', 'will  talk less loud', 'would  talk less loud', '  talk less loud', 'could you speak quieter', 'can you speak quieter', 'will you speak quieter', 'would you speak quieter', ' you speak quieter', 'could  speak quieter', 'can  speak quieter', 'will  speak quieter', 'would  speak quieter', '  speak quieter', 'could you talk quieter', 'can you talk quieter', 'will you talk quieter', 'would you talk quieter', ' you talk quieter', 'could  talk quieter', 'can  talk quieter', 'will  talk quieter', 'would  talk quieter', '  talk quieter', 'could you speak silently', 'can you speak silently', 'will you speak silently', 'would you speak silently', ' you speak silently', 'could  speak silently', 'can  speak silently', 'will  speak silently', 'would  speak silently', '  speak silently', 'could you talk silently', 'can you talk silently', 'will you talk silently', 'would you talk silently', ' you talk silently', 'could  talk silently', 'can  talk silently', 'will  talk silently', 'would  talk silently', '  talk silently', 'could you speak down', 'can you speak down', 'will you speak down', 'would you speak down', ' you speak down', 'could  speak down', 'can  speak down', 'will  speak down', 'would  speak down', '  speak down', 'could you talk down', 'can you talk down', 'will you talk down', 'would you talk down', ' you talk down', 'could  talk down', 'can  talk down', 'will  talk down', 'would  talk down', '  talk down', 'keep it down please', \"you're  too loud\", \"you're speaking too loud\", 'volume down']), ('timesPlayed', ['how many times have we talked already', 'how many times have we chatted already', 'how many times have we spoken already', 'how many times have i launched you already', 'how many times have i started you already', 'how many times have i opened you already', 'how many times have i talked to you already', 'how many times have we talked so far', 'how many times have we chatted so far', 'how many times have we spoken so far', 'how many times have i launched you so far', 'how many times have i started you so far', 'how many times have i opened you so far', 'how many times have i talked to you so far', 'how many times have we talked ', 'how many times have we chatted ', 'how many times have we spoken ', 'how many times have i launched you ', 'how many times have i started you ', 'how many times have i opened you ', 'how many times have i talked to you ']), ('stillThere', ['are you  there', 'are you still there', 'are you sleeping', 'are you asleep', 'have you turned off', 'have you stopped', 'did you turn off', 'did you stop', 'did you quit'])])"
     },
     "execution_count": 3,
     "metadata": {},
     "output_type": "execute_result"
    }
   ],
   "source": [
    "intent_nodes\n"
   ],
   "metadata": {
    "collapsed": false,
    "pycharm": {
     "name": "#%%\n"
    }
   }
  },
  {
   "cell_type": "code",
   "execution_count": 6,
   "outputs": [
    {
     "name": "stdout",
     "output_type": "stream",
     "text": [
      "stop\n",
      "adding 31\n",
      "Repeat\n",
      "adding 24\n",
      "playOtherGame\n",
      "adding 125\n",
      "totalStop\n",
      "adding 2\n",
      "wait\n",
      "adding 11\n",
      "listOfGames\n",
      "adding 66\n",
      "gamesCounter\n",
      "adding 12\n",
      "volumeUp\n",
      "adding 74\n",
      "volumeDown\n",
      "adding 124\n",
      "timesPlayed\n",
      "adding 21\n",
      "stillThere\n",
      "adding 9\n"
     ]
    }
   ],
   "source": [
    "for decision_node, possible_ways in decision_nodes:\n",
    "    X = []\n",
    "    y = []\n",
    "\n",
    "    # load data from decision node + intent json\n",
    "    for possible_way, text_examples in possible_ways.items():\n",
    "        for text_example in text_examples:\n",
    "            X.append(text_example.strip())\n",
    "            y.append(possible_way + \"_L\")\n",
    "\n",
    "    for intent, intent_examples in intent_nodes:\n",
    "        print(intent)\n",
    "        print(\"adding {}\".format(len(intent_examples)))\n",
    "        for text_example in intent_examples:\n",
    "            X.append(text_example.strip())\n",
    "            y.append(intent + \"_G\")"
   ],
   "metadata": {
    "collapsed": false,
    "pycharm": {
     "name": "#%%\n"
    }
   }
  },
  {
   "cell_type": "code",
   "execution_count": 7,
   "outputs": [
    {
     "data": {
      "text/plain": "1319"
     },
     "execution_count": 7,
     "metadata": {},
     "output_type": "execute_result"
    }
   ],
   "source": [
    "len(X)"
   ],
   "metadata": {
    "collapsed": false,
    "pycharm": {
     "name": "#%%\n"
    }
   }
  },
  {
   "cell_type": "code",
   "execution_count": 8,
   "outputs": [
    {
     "data": {
      "text/plain": "1319"
     },
     "execution_count": 8,
     "metadata": {},
     "output_type": "execute_result"
    }
   ],
   "source": [
    "len(y)"
   ],
   "metadata": {
    "collapsed": false,
    "pycharm": {
     "name": "#%%\n"
    }
   }
  },
  {
   "cell_type": "code",
   "execution_count": 14,
   "outputs": [
    {
     "name": "stderr",
     "output_type": "stream",
     "text": [
      "/home/petrlorenc/.virtualenvs/alquist/lib/python3.6/site-packages/sklearn/model_selection/_split.py:667: UserWarning: The least populated class in y has only 2 members, which is less than n_splits=8.\n",
      "  % (min_groups, self.n_splits)), UserWarning)\n"
     ]
    }
   ],
   "source": [
    "import numpy as np\n",
    "from sklearn.model_selection import StratifiedKFold\n",
    "kf = StratifiedKFold(n_splits=8, shuffle=True, random_state=42)\n",
    "split_indexes = kf.split(X, y)\n",
    "\n",
    "for train_index, test_index in split_indexes:\n",
    "\n",
    "    X_test, X_train = np.array(X)[np.array(test_index).astype(int)], np.array(X)[np.array(train_index).astype(int)]\n",
    "    y_test, y_train = np.array(y)[np.array(test_index).astype(int)], np.array(y)[np.array(train_index).astype(int)]\n",
    "    break\n",
    "\n"
   ],
   "metadata": {
    "collapsed": false,
    "pycharm": {
     "name": "#%%\n"
    }
   }
  },
  {
   "cell_type": "code",
   "execution_count": null,
   "outputs": [],
   "source": [
    "dialogflow_format = {\n",
    "  \"name\": \"Yes-no-maybe-All-Corpus\",\n",
    "  \"desc\": \"Petr Lorenc\",\n",
    "  \"lang\": \"en\",\n",
    "  \"sentences\": []\n",
    "}\n",
    "\n",
    "for l, item in zip(y_train, X_train):\n",
    "    dialogflow_format[\"sentences\"].append({\n",
    "      \"text\": item,\n",
    "      \"intent\": l,\n",
    "      \"entities\": [],\n",
    "      \"training\": True\n",
    "    })\n",
    "\n",
    "for l, item in zip(y_test, X_test):\n",
    "    dialogflow_format[\"sentences\"].append({\n",
    "      \"text\": item,\n",
    "      \"intent\": l,\n",
    "      \"entities\": [],\n",
    "      \"training\": False\n",
    "    })\n",
    "\n",
    "with open(\"yes-no-maybe-limit-All-corpus.json\", \"w\") as f:\n",
    "    json.dump(dialogflow_format, f, sort_keys=False, indent=4, separators=(',', ': '), ensure_ascii=False)\n"
   ],
   "metadata": {
    "collapsed": false,
    "pycharm": {
     "name": "#%%\n"
    }
   }
  },
  {
   "cell_type": "code",
   "execution_count": 31,
   "outputs": [],
   "source": [
    "limit = 20\n",
    "cnt_label = {}\n",
    "\n",
    "\n",
    "dialogflow_format = {\n",
    "  \"name\": \"Yes-no-maybe-{}-Corpus\".format(limit),\n",
    "  \"desc\": \"Petr Lorenc\",\n",
    "  \"lang\": \"en\",\n",
    "  \"sentences\": []\n",
    "}\n",
    "\n",
    "mapping_l = {\"-3\" : \"YesNode\", \"-17\": \"NoNode\", \"-18\": \"MaybeNode\"}\n",
    "\n",
    "\n",
    "for l, item in zip(y_train, X_train):\n",
    "    cnt_label[l] = cnt_label.get(l, 0) + 1\n",
    "    if cnt_label[l] > limit:\n",
    "        continue\n",
    "    dialogflow_format[\"sentences\"].append({\n",
    "      \"text\": item,\n",
    "      \"intent\": mapping_l[l] if l in mapping_l else l,\n",
    "      \"entities\": [],\n",
    "      \"training\": True\n",
    "    })\n",
    "\n",
    "for l, item in zip(y_test, X_test):\n",
    "    if cnt_label[l] > limit:\n",
    "        continue\n",
    "    dialogflow_format[\"sentences\"].append({\n",
    "      \"text\": item,\n",
    "      \"intent\": l,\n",
    "      \"entities\": [],\n",
    "      \"training\": False\n",
    "    })\n",
    "\n",
    "with open(\"yes-no-maybe-limit-{}-corpus.json\".format(limit), \"w\") as f:\n",
    "    json.dump(dialogflow_format, f, sort_keys=False, indent=4, separators=(',', ': '), ensure_ascii=False)"
   ],
   "metadata": {
    "collapsed": false,
    "pycharm": {
     "name": "#%%\n"
    }
   }
  },
  {
   "cell_type": "code",
   "execution_count": null,
   "outputs": [],
   "source": [
    "limit = 20\n",
    "cnt_label = {}\n",
    "\n",
    "\n",
    "dialogflow_format = {\n",
    "  \"name\": \"Yes-no-maybe-{}-Corpus\".format(limit),\n",
    "  \"desc\": \"Petr Lorenc\",\n",
    "  \"lang\": \"en\",\n",
    "  \"sentences\": []\n",
    "}\n",
    "\n",
    "mapping_l = {\"-3\" : \"YesNode\", \"-17\": \"NoNode\", \"-18\": \"MaybeNode\"}\n",
    "\n",
    "\n",
    "for l, item in zip(y_train, X_train):\n",
    "    cnt_label[l] = cnt_label.get(l, 0) + 1\n",
    "    if cnt_label[l] > limit:\n",
    "        continue\n",
    "    dialogflow_format[\"sentences\"].append({\n",
    "      \"text\": item,\n",
    "      \"intent\": mapping_l[l] if l in mapping_l else l,\n",
    "      \"entities\": [],\n",
    "      \"training\": True\n",
    "    })\n",
    "\n",
    "for l, item in zip(y_test, X_test):\n",
    "    if cnt_label[l] > limit:\n",
    "        continue\n",
    "    dialogflow_format[\"sentences\"].append({\n",
    "      \"text\": item,\n",
    "      \"intent\": l,\n",
    "      \"entities\": [],\n",
    "      \"training\": False\n",
    "    })\n",
    "\n",
    "with open(dialogflow_format[\"name\"] + \".json\".format(limit), \"w\") as f:\n",
    "    json.dump(dialogflow_format, f, sort_keys=False, indent=4, separators=(',', ': '), ensure_ascii=False)\n"
   ],
   "metadata": {
    "collapsed": false,
    "pycharm": {
     "name": "#%%\n"
    }
   }
  },
  {
   "cell_type": "code",
   "execution_count": 29,
   "outputs": [],
   "source": [
    "heading = [\" i think \",\n",
    "           \" i wonder \",\n",
    "           \" you know \",\n",
    "           \" sounds great \",\n",
    "           \" okay \",\n",
    "           \" so \",\n",
    "           \" right \",\n",
    "           \" believe me \",\n",
    "           \" at the end of the day \",\n",
    "           \" basically \",\n",
    "           \" well \",\n",
    "           \" would you let me know \",\n",
    "           \" i would like to hear \",\n",
    "           \" i want you to \",\n",
    "           \" could you \",\n",
    "           \" can you \",\n",
    "           \" in my humble opinion \",\n",
    "           \" for what it is worth \",\n",
    "           \" needless to say \"]\n",
    "\n",
    "footer = [\" please \",\n",
    "          \" right \",\n",
    "          \" you know what I mean \",\n",
    "          \" you see \",\n",
    "          \" seriously \",\n",
    "          \" as you can see \",\n",
    "          \" you know \",\n",
    "          \" well \"\n",
    "          \" right \"]\n",
    "\n",
    "dummy = [\" yeah \", \" oh \", \" hmm \", \" uhm \", \" just \", \" really \", \" somehow \"]\n"
   ],
   "metadata": {
    "collapsed": false,
    "pycharm": {
     "name": "#%%\n"
    }
   }
  },
  {
   "cell_type": "code",
   "execution_count": 48,
   "outputs": [],
   "source": [
    "import random\n",
    "\n",
    "limit = 15\n",
    "cnt_label = {}\n",
    "\n",
    "\n",
    "dialogflow_format = {\n",
    "  \"name\": \"Yes-no-maybe-{}-H-D-F-Corpus\".format(limit),\n",
    "  \"desc\": \"Petr Lorencc\",\n",
    "  \"lang\": \"en\",\n",
    "  \"sentences\": []\n",
    "}\n",
    "\n",
    "mapping_l = {\"-3\" : \"YesNode\", \"-17\": \"NoNode\", \"-18\": \"MaybeNode\"}\n",
    "\n",
    "\n",
    "for l, item in zip(y_train, X_train):\n",
    "    cnt_label[l] = cnt_label.get(l, 0) + 1\n",
    "    if cnt_label[l] > limit:\n",
    "        continue\n",
    "    text = item\n",
    "    text = (random.choice(heading) if random.random() > 0.5 else \"\") + text\n",
    "    text = text + (random.choice(footer) if random.random() > 0.5 else \"\")\n",
    "\n",
    "    dialogflow_format[\"sentences\"].append({\n",
    "      \"text\": text,\n",
    "      \"intent\": mapping_l[l] if l in mapping_l else l,\n",
    "      \"entities\": [],\n",
    "      \"training\": True\n",
    "    })\n",
    "\n",
    "for l, item in zip(y_test, X_test):\n",
    "    if cnt_label[l] > limit:\n",
    "        continue\n",
    "    text = item\n",
    "    text = (random.choice(heading) if random.random() > 0.5 else \"\") + text\n",
    "    text = text + (random.choice(footer) if random.random() > 0.5 else \"\")\n",
    "\n",
    "    dialogflow_format[\"sentences\"].append({\n",
    "      \"text\": text,\n",
    "      \"intent\": l,\n",
    "      \"entities\": [],\n",
    "      \"training\": False\n",
    "    })\n",
    "\n",
    "with open(dialogflow_format[\"name\"] + \".json\".format(limit), \"w\") as f:\n",
    "    json.dump(dialogflow_format, f, sort_keys=False, indent=4, separators=(',', ': '), ensure_ascii=False)\n",
    "\n"
   ],
   "metadata": {
    "collapsed": false,
    "pycharm": {
     "name": "#%%\n"
    }
   }
  },
  {
   "cell_type": "code",
   "execution_count": 52,
   "outputs": [],
   "source": [
    "\n",
    "import random\n",
    "\n",
    "limit = 10\n",
    "cnt_label = {}\n",
    "\n",
    "\n",
    "dialogflow_format = {\n",
    "  \"name\": \"Yes-no-maybe-{}-H-D-F-Corpus\".format(limit),\n",
    "  \"desc\": \"Petr Lorencc\",\n",
    "  \"lang\": \"en\",\n",
    "  \"sentences\": []\n",
    "}\n",
    "\n",
    "mapping_l = {\"-3\" : \"YesNode\", \"-17\": \"NoNode\", \"-18\": \"MaybeNode\"}\n",
    "\n",
    "\n",
    "for l, item in zip(y_train, X_train):\n",
    "    cnt_label[l] = cnt_label.get(l, 0) + 1\n",
    "    if cnt_label[l] > limit:\n",
    "        continue\n",
    "    text = item.split(\" \")\n",
    "    text.insert(random.randint(0, len(text)), random.choice(dummy) if random.random() > 0.5 else \"\")\n",
    "    text = \" \".join(text)\n",
    "    text = (random.choice(heading) if random.random() > 0.5 else \"\") + text\n",
    "    text = text + (random.choice(footer) if random.random() > 0.5 else \"\")\n",
    "\n",
    "    dialogflow_format[\"sentences\"].append({\n",
    "      \"text\": text,\n",
    "      \"intent\": mapping_l[l] if l in mapping_l else l,\n",
    "      \"entities\": [],\n",
    "      \"training\": True\n",
    "    })\n",
    "\n",
    "for l, item in zip(y_test, X_test):\n",
    "    if cnt_label[l] > limit:\n",
    "        continue\n",
    "    text = item.split(\" \")\n",
    "    text.insert(random.randint(0, len(text)), random.choice(dummy) if random.random() > 0.5 else \"\")\n",
    "    text = \" \".join(text)\n",
    "    text = (random.choice(heading) if random.random() > 0.5 else \"\") + text\n",
    "    text = text + (random.choice(heading) if random.random() > 0.5 else \"\")\n",
    "\n",
    "    dialogflow_format[\"sentences\"].append({\n",
    "      \"text\": text,\n",
    "      \"intent\": l,\n",
    "      \"entities\": [],\n",
    "      \"training\": False\n",
    "    })\n",
    "\n",
    "with open(dialogflow_format[\"name\"] + \".json\".format(limit), \"w\") as f:\n",
    "    json.dump(dialogflow_format, f, sort_keys=False, indent=4, separators=(',', ': '), ensure_ascii=False)\n",
    "\n"
   ],
   "metadata": {
    "collapsed": false,
    "pycharm": {
     "name": "#%%\n"
    }
   }
  },
  {
   "cell_type": "code",
   "execution_count": 6,
   "outputs": [],
   "source": [
    "import json\n",
    "with open(\"./from_editor/Yes-no-maybe-20-Corpus.json\") as f:\n",
    "    data = json.load(f)"
   ],
   "metadata": {
    "collapsed": false,
    "pycharm": {
     "name": "#%%\n"
    }
   }
  },
  {
   "cell_type": "code",
   "execution_count": 7,
   "outputs": [],
   "source": [
    "train_X, train_y, test_X, test_y = [], [], [], []\n",
    "\n",
    "for example in data[\"sentences\"]:\n",
    "    if example[\"training\"]:\n",
    "        train_X.append(example[\"text\"])\n",
    "        train_y.append(example[\"intent\"])\n",
    "    else:\n",
    "        test_X.append(example[\"text\"])\n",
    "        test_y.append(example[\"intent\"])"
   ],
   "metadata": {
    "collapsed": false,
    "pycharm": {
     "name": "#%%\n"
    }
   }
  },
  {
   "cell_type": "code",
   "execution_count": 8,
   "outputs": [],
   "source": [
    "from collections import Counter\n",
    "\n",
    "train_cnt = Counter(train_y)\n",
    "test_cnt = Counter(test_y)"
   ],
   "metadata": {
    "collapsed": false,
    "pycharm": {
     "name": "#%%\n"
    }
   }
  },
  {
   "cell_type": "code",
   "execution_count": 9,
   "outputs": [
    {
     "data": {
      "text/plain": "Counter({'yesNode': 20,\n         'noNode': 20,\n         'maybeNode': 11,\n         'stop': 8,\n         'Repeat': 6,\n         'playOtherGame': 20,\n         'totalStop': 1,\n         'wait': 3,\n         'listOfGames': 16,\n         'gamesCounter': 3,\n         'volumeUp': 19,\n         'volumeDown': 20,\n         'timesPlayed': 5,\n         'stillThere': 2})"
     },
     "execution_count": 9,
     "metadata": {},
     "output_type": "execute_result"
    }
   ],
   "source": [
    "train_cnt\n"
   ],
   "metadata": {
    "collapsed": false,
    "pycharm": {
     "name": "#%%\n"
    }
   }
  },
  {
   "cell_type": "code",
   "execution_count": 10,
   "outputs": [
    {
     "data": {
      "text/plain": "Counter({'maybeNode': 33,\n         'stop': 23,\n         'Repeat': 18,\n         'totalStop': 1,\n         'wait': 8,\n         'listOfGames': 50,\n         'gamesCounter': 9,\n         'volumeUp': 55,\n         'timesPlayed': 16,\n         'stillThere': 7})"
     },
     "execution_count": 10,
     "metadata": {},
     "output_type": "execute_result"
    }
   ],
   "source": [
    "test_cnt"
   ],
   "metadata": {
    "collapsed": false,
    "pycharm": {
     "name": "#%%\n"
    }
   }
  },
  {
   "cell_type": "code",
   "execution_count": 7,
   "outputs": [],
   "source": [
    "\n",
    "import json\n",
    "with open(\"./from_editor/num_examples/paper-data-limit.json\") as f:\n",
    "    data = json.load(f)"
   ],
   "metadata": {
    "collapsed": false,
    "pycharm": {
     "name": "#%%\n"
    }
   }
  },
  {
   "cell_type": "code",
   "execution_count": 8,
   "outputs": [],
   "source": [
    "train_X, train_y, test_X, test_y = [], [], [], []\n",
    "\n",
    "for example in data[\"sentences\"]:\n",
    "    if example[\"training\"]:\n",
    "        train_X.append(example[\"text\"])\n",
    "        train_y.append(example[\"intent\"])\n",
    "    else:\n",
    "        test_X.append(example[\"text\"])\n",
    "        test_y.append(example[\"intent\"])"
   ],
   "metadata": {
    "collapsed": false,
    "pycharm": {
     "name": "#%%\n"
    }
   }
  },
  {
   "cell_type": "code",
   "execution_count": 9,
   "outputs": [],
   "source": [
    "from collections import Counter\n",
    "\n",
    "train_cnt = Counter(train_y)\n",
    "test_cnt = Counter(test_y)"
   ],
   "metadata": {
    "collapsed": false,
    "pycharm": {
     "name": "#%%\n"
    }
   }
  },
  {
   "cell_type": "code",
   "execution_count": 10,
   "outputs": [
    {
     "data": {
      "text/plain": "Counter({'-3_L': 281,\n         '-17_L': 107,\n         '-18_L': 22,\n         'stop_G': 15,\n         'Repeat_G': 12,\n         'playOtherGame_G': 63,\n         'totalStop_G': 1,\n         'wait_G': 5,\n         'listOfGames_G': 33,\n         'gamesCounter_G': 6,\n         'volumeUp_G': 37,\n         'volumeDown_G': 62,\n         'timesPlayed_G': 11,\n         'stillThere_G': 4})"
     },
     "execution_count": 10,
     "metadata": {},
     "output_type": "execute_result"
    }
   ],
   "source": [
    "train_cnt\n"
   ],
   "metadata": {
    "collapsed": false,
    "pycharm": {
     "name": "#%%\n"
    }
   }
  },
  {
   "cell_type": "code",
   "execution_count": 11,
   "outputs": [
    {
     "data": {
      "text/plain": "Counter({'-3_L': 282,\n         '-17_L': 106,\n         '-18_L': 22,\n         'stop_G': 16,\n         'Repeat_G': 12,\n         'playOtherGame_G': 62,\n         'totalStop_G': 1,\n         'wait_G': 6,\n         'listOfGames_G': 33,\n         'gamesCounter_G': 6,\n         'volumeUp_G': 37,\n         'volumeDown_G': 62,\n         'timesPlayed_G': 10,\n         'stillThere_G': 5})"
     },
     "execution_count": 11,
     "metadata": {},
     "output_type": "execute_result"
    }
   ],
   "source": [
    "test_cnt"
   ],
   "metadata": {
    "collapsed": false,
    "pycharm": {
     "name": "#%%\n"
    }
   }
  },
  {
   "cell_type": "code",
   "execution_count": null,
   "outputs": [],
   "source": [
    "3\n"
   ],
   "metadata": {
    "collapsed": false,
    "pycharm": {
     "name": "#%%\n"
    }
   }
  }
 ],
 "metadata": {
  "kernelspec": {
   "display_name": "Python 3",
   "language": "python",
   "name": "python3"
  },
  "language_info": {
   "codemirror_mode": {
    "name": "ipython",
    "version": 2
   },
   "file_extension": ".py",
   "mimetype": "text/x-python",
   "name": "python",
   "nbconvert_exporter": "python",
   "pygments_lexer": "ipython2",
   "version": "2.7.6"
  }
 },
 "nbformat": 4,
 "nbformat_minor": 0
}