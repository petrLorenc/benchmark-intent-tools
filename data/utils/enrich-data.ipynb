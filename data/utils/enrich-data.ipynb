{
 "cells": [
  {
   "cell_type": "code",
   "execution_count": 1,
   "metadata": {
    "collapsed": true
   },
   "outputs": [],
   "source": [
    "heading = [\" i think \",\n",
    "           \" i wonder \",\n",
    "           \" you know \",\n",
    "           \" sounds great \",\n",
    "           \" okay \",\n",
    "           \" so \",\n",
    "           \" right \",\n",
    "           \" believe me \",\n",
    "           \" at the end of the day \",\n",
    "           \" basically \",\n",
    "           \" well \",\n",
    "           \" would you let me know \",\n",
    "           \" i would like to hear \",\n",
    "           \" i want you to \",\n",
    "           \" could you \",\n",
    "           \" can you \",\n",
    "           \" in my humble opinion \",\n",
    "           \" for what it is worth \",\n",
    "           \" needless to say \"]\n",
    "\n",
    "footer = [\" please \",\n",
    "          \" right \",\n",
    "          \" you know what I mean \",\n",
    "          \" you see \",\n",
    "          \" seriously \",\n",
    "          \" as you can see \",\n",
    "          \" you know \",\n",
    "          \" well \"\n",
    "          \" right \"]\n",
    "\n",
    "dummy = [\" yeah \", \" oh \", \" ehm \", \" uhm \", \" just \", \" really \", \" somehow \"]"
   ]
  },
  {
   "cell_type": "code",
   "execution_count": 23,
   "outputs": [],
   "source": [
    "import json\n",
    "\n",
    "with open(\"ChatbotCorpus.json\") as f:\n",
    "    data = json.load(f)"
   ],
   "metadata": {
    "collapsed": false,
    "pycharm": {
     "name": "#%%\n"
    }
   }
  },
  {
   "cell_type": "code",
   "execution_count": 24,
   "outputs": [],
   "source": [
    "import random\n",
    "\n",
    "for idx in range(len(data[\"sentences\"])):\n",
    "    text = data[\"sentences\"][idx][\"text\"].split(\" \")\n",
    "    text.insert(random.randint(1, len(text) - 1), random.choice(dummy) if random.random() > 0.4 else \"\")\n",
    "    text = \" \".join(text)\n",
    "    text = (random.choice(heading) if random.random() > 0.3 else \"\") + text\n",
    "    text = text + (random.choice(footer) if random.random() > 0.3 else \"\")\n",
    "\n",
    "    data[\"sentences\"][idx][\"text\"] = text"
   ],
   "metadata": {
    "collapsed": false,
    "pycharm": {
     "name": "#%%\n"
    }
   }
  },
  {
   "cell_type": "code",
   "execution_count": 25,
   "outputs": [],
   "source": [
    "with open(\"corpus/from_datasets/ChatbotCorpusEnrich.json\", \"w\") as f:\n",
    "    json.dump(data, f, sort_keys=False, indent=4, separators=(',', ': '), ensure_ascii=False)"
   ],
   "metadata": {
    "collapsed": false,
    "pycharm": {
     "name": "#%%\n"
    }
   }
  },
  {
   "cell_type": "code",
   "execution_count": 26,
   "outputs": [],
   "source": [
    "import json\n",
    "\n",
    "with open(\"WebApplicationsCorpus.json\") as f:\n",
    "    data = json.load(f)"
   ],
   "metadata": {
    "collapsed": false,
    "pycharm": {
     "name": "#%%\n"
    }
   }
  },
  {
   "cell_type": "code",
   "execution_count": 27,
   "outputs": [],
   "source": [
    "import random\n",
    "\n",
    "for idx in range(len(data[\"sentences\"])):\n",
    "    text = data[\"sentences\"][idx][\"text\"].split(\" \")\n",
    "    text.insert(random.randint(1, len(text) - 1), random.choice(dummy) if random.random() > 0.4 else \"\")\n",
    "    text = \" \".join(text)\n",
    "    text = (random.choice(heading) if random.random() > 0.3 else \"\") + text\n",
    "    text = text + (random.choice(footer) if random.random() > 0.3 else \"\")\n",
    "\n",
    "    data[\"sentences\"][idx][\"text\"] = text"
   ],
   "metadata": {
    "collapsed": false,
    "pycharm": {
     "name": "#%%\n"
    }
   }
  },
  {
   "cell_type": "code",
   "execution_count": 28,
   "outputs": [],
   "source": [
    "with open(\"corpus/from_datasets/WebApplicationsCorpusEnrich.json\", \"w\") as f:\n",
    "    json.dump(data, f, sort_keys=False, indent=4, separators=(',', ': '), ensure_ascii=False)"
   ],
   "metadata": {
    "collapsed": false,
    "pycharm": {
     "name": "#%%\n"
    }
   }
  },
  {
   "cell_type": "code",
   "execution_count": 29,
   "outputs": [],
   "source": [
    "import json\n",
    "\n",
    "with open(\"AskUbuntuCorpus.json\") as f:\n",
    "    data = json.load(f)"
   ],
   "metadata": {
    "collapsed": false,
    "pycharm": {
     "name": "#%%\n"
    }
   }
  },
  {
   "cell_type": "code",
   "execution_count": 30,
   "outputs": [],
   "source": [
    "import random\n",
    "\n",
    "for idx in range(len(data[\"sentences\"])):\n",
    "    text = data[\"sentences\"][idx][\"text\"].split(\" \")\n",
    "    text.insert(random.randint(1, len(text) - 1), random.choice(dummy) if random.random() > 0.4 else \"\")\n",
    "    text = \" \".join(text)\n",
    "    text = (random.choice(heading) if random.random() > 0.3 else \"\") + text\n",
    "    text = text + (random.choice(footer) if random.random() > 0.3 else \"\")\n",
    "\n",
    "    data[\"sentences\"][idx][\"text\"] = text"
   ],
   "metadata": {
    "collapsed": false,
    "pycharm": {
     "name": "#%%\n"
    }
   }
  },
  {
   "cell_type": "code",
   "execution_count": 31,
   "outputs": [],
   "source": [
    "with open(\"corpus/from_datasets/AskUbuntuCorpusEnrich.json\", \"w\") as f:\n",
    "    json.dump(data, f, sort_keys=False, indent=4, separators=(',', ': '), ensure_ascii=False)\n",
    "\n",
    "\n"
   ],
   "metadata": {
    "collapsed": false,
    "pycharm": {
     "name": "#%%\n"
    }
   }
  },
  {
   "cell_type": "code",
   "execution_count": null,
   "outputs": [],
   "source": [
    "\n"
   ],
   "metadata": {
    "collapsed": false,
    "pycharm": {
     "name": "#%%\n"
    }
   }
  }
 ],
 "metadata": {
  "kernelspec": {
   "display_name": "Python 3",
   "language": "python",
   "name": "python3"
  },
  "language_info": {
   "codemirror_mode": {
    "name": "ipython",
    "version": 2
   },
   "file_extension": ".py",
   "mimetype": "text/x-python",
   "name": "python",
   "nbconvert_exporter": "python",
   "pygments_lexer": "ipython2",
   "version": "2.7.6"
  }
 },
 "nbformat": 4,
 "nbformat_minor": 0
}