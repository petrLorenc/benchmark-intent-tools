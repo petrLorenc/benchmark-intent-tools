{
 "cells": [
  {
   "cell_type": "code",
   "execution_count": 29,
   "metadata": {
    "collapsed": true
   },
   "outputs": [],
   "source": [
    "with open(\"utils/typos-dataset.txt\") as f:\n",
    "    data = f.readlines()\n",
    "    mapping_orig = {x.split(\"->\")[0].strip() : x.split(\"->\")[1].strip() for x in data}\n",
    "    mapping_reverse = {v: k for k, v in mapping_orig.items()}"
   ]
  },
  {
   "cell_type": "code",
   "execution_count": 30,
   "outputs": [],
   "source": [
    "import json\n",
    "\n",
    "with open(\"ChatbotCorpus.json\") as f:\n",
    "    data = json.load(f)"
   ],
   "metadata": {
    "collapsed": false,
    "pycharm": {
     "name": "#%%\n"
    }
   }
  },
  {
   "cell_type": "code",
   "execution_count": 31,
   "outputs": [],
   "source": [
    "import random\n",
    "\n",
    "for idx in range(len(data[\"sentences\"])):\n",
    "    text = data[\"sentences\"][idx][\"text\"]\n",
    "    is_typo = False\n",
    "    for word, initial in mapping_orig.items():\n",
    "        if word in text:\n",
    "            is_typo = True\n",
    "            text = text.replace(word, initial)\n",
    "    if not is_typo:\n",
    "        for word, initial in mapping_reverse.items():\n",
    "            if word in text:\n",
    "                is_typo = True\n",
    "                text = text.replace(word, initial)\n",
    "    if not is_typo:\n",
    "        char_pos = random.randint(2, len(text))\n",
    "        text = text[:char_pos - 2] + text[char_pos] + text[char_pos - 1] + text[char_pos:]\n",
    "\n",
    "    data[\"sentences\"][idx][\"text\"] = text"
   ],
   "metadata": {
    "collapsed": false,
    "pycharm": {
     "name": "#%%\n"
    }
   }
  },
  {
   "cell_type": "code",
   "execution_count": 32,
   "outputs": [],
   "source": [
    "with open(\"corpus/from_datasets/ChatbotCorpusTypos.json\", \"w\") as f:\n",
    "    json.dump(data, f, sort_keys=False, indent=4, separators=(',', ': '), ensure_ascii=False)"
   ],
   "metadata": {
    "collapsed": false,
    "pycharm": {
     "name": "#%%\n"
    }
   }
  },
  {
   "cell_type": "code",
   "execution_count": 33,
   "outputs": [],
   "source": [
    "import json\n",
    "\n",
    "with open(\"WebApplicationsCorpus.json\") as f:\n",
    "    data = json.load(f)"
   ],
   "metadata": {
    "collapsed": false,
    "pycharm": {
     "name": "#%%\n"
    }
   }
  },
  {
   "cell_type": "code",
   "execution_count": 34,
   "outputs": [],
   "source": [
    "import random\n",
    "\n",
    "for idx in range(len(data[\"sentences\"])):\n",
    "    text = data[\"sentences\"][idx][\"text\"]\n",
    "    is_typo = False\n",
    "    for word, initial in mapping_orig.items():\n",
    "        if word in text:\n",
    "            is_typo = True\n",
    "            text = text.replace(word, initial)\n",
    "    if not is_typo:\n",
    "        for word, initial in mapping_reverse.items():\n",
    "            if word in text:\n",
    "                is_typo = True\n",
    "                text = text.replace(word, initial)\n",
    "    if not is_typo:\n",
    "        char_pos = random.randint(2, len(text) - 1)\n",
    "        text = text[:char_pos - 2] + text[char_pos] + text[char_pos - 1] + text[char_pos:]\n",
    "\n",
    "    data[\"sentences\"][idx][\"text\"] = text\n"
   ],
   "metadata": {
    "collapsed": false,
    "pycharm": {
     "name": "#%%\n"
    }
   }
  },
  {
   "cell_type": "code",
   "execution_count": 35,
   "outputs": [],
   "source": [
    "with open(\"corpus/from_datasets/WebApplicationsCorpusTypos.json\", \"w\") as f:\n",
    "    json.dump(data, f, sort_keys=False, indent=4, separators=(',', ': '), ensure_ascii=False)"
   ],
   "metadata": {
    "collapsed": false,
    "pycharm": {
     "name": "#%%\n"
    }
   }
  },
  {
   "cell_type": "code",
   "execution_count": 36,
   "outputs": [],
   "source": [
    "import json\n",
    "\n",
    "with open(\"AskUbuntuCorpus.json\") as f:\n",
    "    data = json.load(f)"
   ],
   "metadata": {
    "collapsed": false,
    "pycharm": {
     "name": "#%%\n"
    }
   }
  },
  {
   "cell_type": "code",
   "execution_count": 37,
   "outputs": [],
   "source": [
    "import random\n",
    "\n",
    "for idx in range(len(data[\"sentences\"])):\n",
    "    text = data[\"sentences\"][idx][\"text\"]\n",
    "    is_typo = False\n",
    "    for word, initial in mapping_orig.items():\n",
    "        if word in text:\n",
    "            is_typo = True\n",
    "            text = text.replace(word, initial)\n",
    "    if not is_typo:\n",
    "        for word, initial in mapping_reverse.items():\n",
    "            if word in text:\n",
    "                is_typo = True\n",
    "                text = text.replace(word, initial)\n",
    "    if not is_typo:\n",
    "        char_pos = random.randint(2, len(text))\n",
    "        text = text[:char_pos - 2] + text[char_pos] + text[char_pos - 1] + text[char_pos:]\n",
    "\n",
    "    data[\"sentences\"][idx][\"text\"] = text\n"
   ],
   "metadata": {
    "collapsed": false,
    "pycharm": {
     "name": "#%%\n"
    }
   }
  },
  {
   "cell_type": "code",
   "execution_count": 38,
   "outputs": [],
   "source": [
    "with open(\"corpus/from_datasets/AskUbuntuCorpusTypos.json\", \"w\") as f:\n",
    "    json.dump(data, f, sort_keys=False, indent=4, separators=(',', ': '), ensure_ascii=False)\n",
    "\n",
    "\n"
   ],
   "metadata": {
    "collapsed": false,
    "pycharm": {
     "name": "#%%\n"
    }
   }
  },
  {
   "cell_type": "markdown",
   "source": [
    "# 50 percent typos\n"
   ],
   "metadata": {
    "collapsed": false
   }
  },
  {
   "cell_type": "code",
   "execution_count": 49,
   "outputs": [],
   "source": [
    "with open(\"utils/typos-dataset.txt\") as f:\n",
    "    data = f.readlines()\n",
    "    mapping_orig = {x.split(\"->\")[0].strip() : x.split(\"->\")[1].strip() for x in data}\n",
    "    mapping_reverse = {v: k for k, v in mapping_orig.items()}"
   ],
   "metadata": {
    "collapsed": false,
    "pycharm": {
     "name": "#%%\n"
    }
   }
  },
  {
   "cell_type": "code",
   "execution_count": 50,
   "outputs": [],
   "source": [
    "import json\n",
    "\n",
    "with open(\"ChatbotCorpus.json\") as f:\n",
    "    data = json.load(f)"
   ],
   "metadata": {
    "collapsed": false,
    "pycharm": {
     "name": "#%%\n"
    }
   }
  },
  {
   "cell_type": "code",
   "execution_count": 51,
   "outputs": [],
   "source": [
    "import random\n",
    "\n",
    "for idx in range(len(data[\"sentences\"])):\n",
    "    text = data[\"sentences\"][idx][\"text\"]\n",
    "    is_typo = False\n",
    "    for word, initial in mapping_orig.items():\n",
    "        if word in text:\n",
    "            is_typo = True\n",
    "            if random.random() > 0.5:\n",
    "                text = text.replace(word, initial)\n",
    "    for word, initial in mapping_reverse.items():\n",
    "        if word in text:\n",
    "            is_typo = True\n",
    "            if random.random() > 0.5:\n",
    "                text = text.replace(word, initial)\n",
    "    if not is_typo:\n",
    "        char_pos = random.randint(2, len(text))\n",
    "        if random.random() > 0.5:\n",
    "            text = text[:char_pos - 2] + text[char_pos] + text[char_pos - 1] + text[char_pos:]\n",
    "\n",
    "    data[\"sentences\"][idx][\"text\"] = text"
   ],
   "metadata": {
    "collapsed": false,
    "pycharm": {
     "name": "#%%\n"
    }
   }
  },
  {
   "cell_type": "code",
   "execution_count": 52,
   "outputs": [],
   "source": [
    "with open(\"corpus/from_datasets/ChatbotCorpusTypos50.json\", \"w\") as f:\n",
    "    json.dump(data, f, sort_keys=False, indent=4, separators=(',', ': '), ensure_ascii=False)"
   ],
   "metadata": {
    "collapsed": false,
    "pycharm": {
     "name": "#%%\n"
    }
   }
  },
  {
   "cell_type": "code",
   "execution_count": 53,
   "outputs": [],
   "source": [
    "import json\n",
    "\n",
    "with open(\"WebApplicationsCorpus.json\") as f:\n",
    "    data = json.load(f)"
   ],
   "metadata": {
    "collapsed": false,
    "pycharm": {
     "name": "#%%\n"
    }
   }
  },
  {
   "cell_type": "code",
   "execution_count": 54,
   "outputs": [],
   "source": [
    "import random\n",
    "\n",
    "for idx in range(len(data[\"sentences\"])):\n",
    "    text = data[\"sentences\"][idx][\"text\"]\n",
    "    is_typo = False\n",
    "    for word, initial in mapping_orig.items():\n",
    "        if word in text:\n",
    "            is_typo = True\n",
    "            if random.random() > 0.5:\n",
    "                text = text.replace(word, initial)\n",
    "    for word, initial in mapping_reverse.items():\n",
    "        if word in text:\n",
    "            is_typo = True\n",
    "            if random.random() > 0.5:\n",
    "                text = text.replace(word, initial)\n",
    "    if not is_typo:\n",
    "        char_pos = random.randint(2, len(text) - 1)\n",
    "        if random.random() > 0.5:\n",
    "            text = text[:char_pos - 2] + text[char_pos] + text[char_pos - 1] + text[char_pos:]\n",
    "\n",
    "    data[\"sentences\"][idx][\"text\"] = text\n"
   ],
   "metadata": {
    "collapsed": false,
    "pycharm": {
     "name": "#%%\n"
    }
   }
  },
  {
   "cell_type": "code",
   "execution_count": 55,
   "outputs": [],
   "source": [
    "with open(\"corpus/from_datasets/WebApplicationsCorpusTypos50.json\", \"w\") as f:\n",
    "    json.dump(data, f, sort_keys=False, indent=4, separators=(',', ': '), ensure_ascii=False)"
   ],
   "metadata": {
    "collapsed": false,
    "pycharm": {
     "name": "#%%\n"
    }
   }
  },
  {
   "cell_type": "code",
   "execution_count": 56,
   "outputs": [],
   "source": [
    "import json\n",
    "\n",
    "with open(\"AskUbuntuCorpus.json\") as f:\n",
    "    data = json.load(f)"
   ],
   "metadata": {
    "collapsed": false,
    "pycharm": {
     "name": "#%%\n"
    }
   }
  },
  {
   "cell_type": "code",
   "execution_count": 57,
   "outputs": [
    {
     "ename": "IndexError",
     "evalue": "string index out of range",
     "output_type": "error",
     "traceback": [
      "\u001B[0;31m---------------------------------------------------------------------------\u001B[0m",
      "\u001B[0;31mIndexError\u001B[0m                                Traceback (most recent call last)",
      "\u001B[0;32m<ipython-input-57-9d2d23439ab2>\u001B[0m in \u001B[0;36m<module>\u001B[0;34m\u001B[0m\n\u001B[1;32m     17\u001B[0m         \u001B[0mchar_pos\u001B[0m \u001B[0;34m=\u001B[0m \u001B[0mrandom\u001B[0m\u001B[0;34m.\u001B[0m\u001B[0mrandint\u001B[0m\u001B[0;34m(\u001B[0m\u001B[0;36m2\u001B[0m\u001B[0;34m,\u001B[0m \u001B[0mlen\u001B[0m\u001B[0;34m(\u001B[0m\u001B[0mtext\u001B[0m\u001B[0;34m)\u001B[0m\u001B[0;34m)\u001B[0m\u001B[0;34m\u001B[0m\u001B[0;34m\u001B[0m\u001B[0m\n\u001B[1;32m     18\u001B[0m         \u001B[0;32mif\u001B[0m \u001B[0mrandom\u001B[0m\u001B[0;34m.\u001B[0m\u001B[0mrandom\u001B[0m\u001B[0;34m(\u001B[0m\u001B[0;34m)\u001B[0m \u001B[0;34m>\u001B[0m \u001B[0;36m0.5\u001B[0m\u001B[0;34m:\u001B[0m\u001B[0;34m\u001B[0m\u001B[0;34m\u001B[0m\u001B[0m\n\u001B[0;32m---> 19\u001B[0;31m             \u001B[0mtext\u001B[0m \u001B[0;34m=\u001B[0m \u001B[0mtext\u001B[0m\u001B[0;34m[\u001B[0m\u001B[0;34m:\u001B[0m\u001B[0mchar_pos\u001B[0m \u001B[0;34m-\u001B[0m \u001B[0;36m2\u001B[0m\u001B[0;34m]\u001B[0m \u001B[0;34m+\u001B[0m \u001B[0mtext\u001B[0m\u001B[0;34m[\u001B[0m\u001B[0mchar_pos\u001B[0m\u001B[0;34m]\u001B[0m \u001B[0;34m+\u001B[0m \u001B[0mtext\u001B[0m\u001B[0;34m[\u001B[0m\u001B[0mchar_pos\u001B[0m \u001B[0;34m-\u001B[0m \u001B[0;36m1\u001B[0m\u001B[0;34m]\u001B[0m \u001B[0;34m+\u001B[0m \u001B[0mtext\u001B[0m\u001B[0;34m[\u001B[0m\u001B[0mchar_pos\u001B[0m\u001B[0;34m:\u001B[0m\u001B[0;34m]\u001B[0m\u001B[0;34m\u001B[0m\u001B[0;34m\u001B[0m\u001B[0m\n\u001B[0m\u001B[1;32m     20\u001B[0m \u001B[0;34m\u001B[0m\u001B[0m\n\u001B[1;32m     21\u001B[0m     \u001B[0mdata\u001B[0m\u001B[0;34m[\u001B[0m\u001B[0;34m\"sentences\"\u001B[0m\u001B[0;34m]\u001B[0m\u001B[0;34m[\u001B[0m\u001B[0midx\u001B[0m\u001B[0;34m]\u001B[0m\u001B[0;34m[\u001B[0m\u001B[0;34m\"text\"\u001B[0m\u001B[0;34m]\u001B[0m \u001B[0;34m=\u001B[0m \u001B[0mtext\u001B[0m\u001B[0;34m\u001B[0m\u001B[0;34m\u001B[0m\u001B[0m\n",
      "\u001B[0;31mIndexError\u001B[0m: string index out of range"
     ]
    }
   ],
   "source": [
    "import random\n",
    "\n",
    "for idx in range(len(data[\"sentences\"])):\n",
    "    text = data[\"sentences\"][idx][\"text\"]\n",
    "    is_typo = False\n",
    "    for word, initial in mapping_orig.items():\n",
    "        if word in text:\n",
    "            is_typo = True\n",
    "            if random.random() > 0.5:\n",
    "                text = text.replace(word, initial)\n",
    "    for word, initial in mapping_reverse.items():\n",
    "        if word in text:\n",
    "            is_typo = True\n",
    "            if random.random() > 0.5:\n",
    "                text = text.replace(word, initial)\n",
    "    if not is_typo:\n",
    "        char_pos = random.randint(2, len(text))\n",
    "        if random.random() > 0.5:\n",
    "            text = text[:char_pos - 2] + text[char_pos] + text[char_pos - 1] + text[char_pos:]\n",
    "\n",
    "    data[\"sentences\"][idx][\"text\"] = text\n"
   ],
   "metadata": {
    "collapsed": false,
    "pycharm": {
     "name": "#%%\n"
    }
   }
  },
  {
   "cell_type": "code",
   "execution_count": 58,
   "outputs": [],
   "source": [
    "with open(\"corpus/from_datasets/AskUbuntuCorpusTypos50.json\", \"w\") as f:\n",
    "    json.dump(data, f, sort_keys=False, indent=4, separators=(',', ': '), ensure_ascii=False)\n",
    "\n",
    "\n"
   ],
   "metadata": {
    "collapsed": false,
    "pycharm": {
     "name": "#%%\n"
    }
   }
  },
  {
   "cell_type": "code",
   "execution_count": null,
   "outputs": [],
   "source": [
    "\n",
    "\n",
    "\n"
   ],
   "metadata": {
    "collapsed": false,
    "pycharm": {
     "name": "#%%\n"
    }
   }
  }
 ],
 "metadata": {
  "kernelspec": {
   "display_name": "Python 3",
   "language": "python",
   "name": "python3"
  },
  "language_info": {
   "codemirror_mode": {
    "name": "ipython",
    "version": 2
   },
   "file_extension": ".py",
   "mimetype": "text/x-python",
   "name": "python",
   "nbconvert_exporter": "python",
   "pygments_lexer": "ipython2",
   "version": "2.7.6"
  }
 },
 "nbformat": 4,
 "nbformat_minor": 0
}