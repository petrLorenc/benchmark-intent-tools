{
 "cells": [
  {
   "cell_type": "code",
   "execution_count": 30,
   "metadata": {
    "collapsed": true
   },
   "outputs": [],
   "source": [
    "dummy = [\" yeah \", \" oh \", \" ehm \", \" uhm \", \" just \", \" i know \", \" something \"]"
   ]
  },
  {
   "cell_type": "code",
   "execution_count": 31,
   "outputs": [],
   "source": [
    "import json\n",
    "\n",
    "with open(\"ChatbotCorpus.json\") as f:\n",
    "    data = json.load(f)"
   ],
   "metadata": {
    "collapsed": false,
    "pycharm": {
     "name": "#%%\n"
    }
   }
  },
  {
   "cell_type": "code",
   "execution_count": 32,
   "outputs": [],
   "source": [
    "import random\n",
    "\n",
    "for idx in range(len(data[\"sentences\"])):\n",
    "    text = data[\"sentences\"][idx][\"text\"].split(\" \")\n",
    "    placeholder_position = random.randint(1, len(text) - 1)\n",
    "    text[placeholder_position] = random.choice(dummy) if random.random() > 0.1 else text[placeholder_position]\n",
    "    text = \" \".join(text)\n",
    "\n",
    "    data[\"sentences\"][idx][\"text\"] = text"
   ],
   "metadata": {
    "collapsed": false,
    "pycharm": {
     "name": "#%%\n"
    }
   }
  },
  {
   "cell_type": "code",
   "execution_count": 33,
   "outputs": [],
   "source": [
    "with open(\"corpus/from_datasets/ChatbotCorpusReplace.json\", \"w\") as f:\n",
    "    json.dump(data, f, sort_keys=False, indent=4, separators=(',', ': '), ensure_ascii=False)"
   ],
   "metadata": {
    "collapsed": false,
    "pycharm": {
     "name": "#%%\n"
    }
   }
  },
  {
   "cell_type": "code",
   "execution_count": 34,
   "outputs": [],
   "source": [
    "import json\n",
    "\n",
    "with open(\"WebApplicationsCorpus.json\") as f:\n",
    "    data = json.load(f)"
   ],
   "metadata": {
    "collapsed": false,
    "pycharm": {
     "name": "#%%\n"
    }
   }
  },
  {
   "cell_type": "code",
   "execution_count": 35,
   "outputs": [],
   "source": [
    "import random\n",
    "\n",
    "for idx in range(len(data[\"sentences\"])):\n",
    "    text = data[\"sentences\"][idx][\"text\"].split(\" \")\n",
    "    placeholder_position = random.randint(1, len(text) - 1)\n",
    "    text[placeholder_position] = random.choice(dummy) if random.random() > 0.1 else text[placeholder_position]\n",
    "    text = \" \".join(text)\n",
    "\n",
    "    data[\"sentences\"][idx][\"text\"] = text"
   ],
   "metadata": {
    "collapsed": false,
    "pycharm": {
     "name": "#%%\n"
    }
   }
  },
  {
   "cell_type": "code",
   "execution_count": 36,
   "outputs": [],
   "source": [
    "with open(\"corpus/from_datasets/WebApplicationsCorpusReplace.json\", \"w\") as f:\n",
    "    json.dump(data, f, sort_keys=False, indent=4, separators=(',', ': '), ensure_ascii=False)"
   ],
   "metadata": {
    "collapsed": false,
    "pycharm": {
     "name": "#%%\n"
    }
   }
  },
  {
   "cell_type": "code",
   "execution_count": 37,
   "outputs": [],
   "source": [
    "import json\n",
    "\n",
    "with open(\"AskUbuntuCorpus.json\") as f:\n",
    "    data = json.load(f)"
   ],
   "metadata": {
    "collapsed": false,
    "pycharm": {
     "name": "#%%\n"
    }
   }
  },
  {
   "cell_type": "code",
   "execution_count": 38,
   "outputs": [],
   "source": [
    "import random\n",
    "\n",
    "for idx in range(len(data[\"sentences\"])):\n",
    "    text = data[\"sentences\"][idx][\"text\"].split(\" \")\n",
    "    placeholder_position = random.randint(1, len(text) - 1)\n",
    "    text[placeholder_position] = random.choice(dummy) if random.random() > 0.1 else text[placeholder_position]\n",
    "    text = \" \".join(text)\n",
    "\n",
    "    data[\"sentences\"][idx][\"text\"] = text"
   ],
   "metadata": {
    "collapsed": false,
    "pycharm": {
     "name": "#%%\n"
    }
   }
  },
  {
   "cell_type": "code",
   "execution_count": 39,
   "outputs": [],
   "source": [
    "with open(\"corpus/from_datasets/AskUbuntuCorpusReplace.json\", \"w\") as f:\n",
    "    json.dump(data, f, sort_keys=False, indent=4, separators=(',', ': '), ensure_ascii=False)\n",
    "\n",
    "\n"
   ],
   "metadata": {
    "collapsed": false,
    "pycharm": {
     "name": "#%%\n"
    }
   }
  },
  {
   "cell_type": "code",
   "execution_count": 29,
   "outputs": [],
   "source": [],
   "metadata": {
    "collapsed": false,
    "pycharm": {
     "name": "#%%\n"
    }
   }
  },
  {
   "cell_type": "code",
   "execution_count": null,
   "outputs": [],
   "source": [
    "\n"
   ],
   "metadata": {
    "collapsed": false,
    "pycharm": {
     "name": "#%%\n"
    }
   }
  }
 ],
 "metadata": {
  "kernelspec": {
   "display_name": "Python 3",
   "language": "python",
   "name": "python3"
  },
  "language_info": {
   "codemirror_mode": {
    "name": "ipython",
    "version": 2
   },
   "file_extension": ".py",
   "mimetype": "text/x-python",
   "name": "python",
   "nbconvert_exporter": "python",
   "pygments_lexer": "ipython2",
   "version": "2.7.6"
  }
 },
 "nbformat": 4,
 "nbformat_minor": 0
}