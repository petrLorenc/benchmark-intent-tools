{
 "cells": [
  {
   "cell_type": "code",
   "execution_count": 1,
   "metadata": {
    "collapsed": true
   },
   "outputs": [],
   "source": [
    "import json\n",
    "data = json.load(open(\"./remote_annotations/dialogflow/AskUbuntuCorpusEnrichAnalysis.json\"))"
   ]
  },
  {
   "cell_type": "code",
   "execution_count": 14,
   "outputs": [
    {
     "name": "stdout",
     "output_type": "stream",
     "text": [
      "0.0\n",
      "0.9487179487179487\n",
      "0.0\n",
      "0.9615384615384616\n",
      "1.0\n",
      "0.9333333333333333\n"
     ]
    }
   ],
   "source": [
    "\n",
    "\n",
    "precision = list(map(lambda it: it[0][\"precision\"],filter(lambda it: type(it) == type(list()), data[0][\"intents\"][0].values())))\n",
    "print(sum(precision)/len(precision))"
   ],
   "metadata": {
    "collapsed": false,
    "pycharm": {
     "name": "#%%\n"
    }
   }
  },
  {
   "cell_type": "code",
   "execution_count": 73,
   "outputs": [
    {
     "name": "stdout",
     "output_type": "stream",
     "text": [
      "watson - ChatbotAnalysis_Watson.json\n",
      "0.65/0.92/0.95\n",
      "\n",
      "watson - YesNoMaybeLimit20Analysis.json\n",
      "0.54/0.80/0.88\n",
      "\n",
      "watson - YesNoMaybeLimit20HFAnalysis.json\n",
      "0.50/0.68/0.79\n",
      "\n",
      "watson - WebApplicationsAnalysis_Watson.json\n",
      "0.64/0.72/0.84\n",
      "\n",
      "watson - ChatbotCorpusEnrichAnalysis.json\n",
      "0.63/0.91/0.93\n",
      "\n",
      "watson - paper-data-limit-H-F-DAnalysis.json\n",
      "0.87/0.86/0.88\n",
      "\n",
      "watson - AskUbuntuCorpusEnrichAnalysis.json\n",
      "0.74/0.78/0.94\n",
      "\n",
      "watson - WebApplicationsCorpusEnrichAnalysis.json\n",
      "0.65/0.62/0.72\n",
      "\n",
      "watson - AskUbuntuAnalysis_Watson.json\n",
      "0.67/0.81/0.81\n",
      "\n",
      "watson - YesNoMaybeLimit20HDFAnalysis.json\n",
      "0.56/0.73/0.86\n",
      "\n"
     ]
    }
   ],
   "source": [
    "import glob\n",
    "for name in glob.glob(\"./*/watson/*Analysis*.json\"):\n",
    "    data = json.load(open(name))\n",
    "\n",
    "    micro_f1 = list(map(lambda it: -1 if type(it[0][\"f1\"]) == type(str()) else it[0][\"f1\"] ,filter(lambda it: type(it) == type(list()), data[0][\"intents\"][0].values())))\n",
    "    recall = list(map(lambda it: -1 if type(it[0][\"recall\"]) == type(str()) else it[0][\"recall\"] ,filter(lambda it: type(it) == type(list()), data[0][\"intents\"][0].values())))\n",
    "    precision = list(map(lambda it: -1 if type(it[0][\"precision\"]) == type(str()) else it[0][\"precision\"],filter(lambda it: type(it) == type(list()), data[0][\"intents\"][0].values())))\n",
    "\n",
    "    micro_f1 = list(filter(lambda it: it != -1, micro_f1))\n",
    "    recall = list(filter(lambda it: it != -1, recall))\n",
    "    precision = list(filter(lambda it: it != -1, precision))\n",
    "\n",
    "    # print(f\"Precision: {sum(precision)/len(precision)}\")\n",
    "    # print(f\"Recall: {sum(recall)/len(recall)}\")\n",
    "    # print(f\"Micro F1: {sum(micro_f1)/len(micro_f1)}\")\n",
    "\n",
    "    print(f\"{name.split('/')[-2]} - {name.split('/')[-1]}\")\n",
    "    print(f\"{sum(precision)/len(precision):.2f}/{sum(recall)/len(recall):.2f}/{sum(micro_f1)/len(micro_f1):.2f}\")\n",
    "    print()"
   ],
   "metadata": {
    "collapsed": false,
    "pycharm": {
     "name": "#%%\n"
    }
   }
  },
  {
   "cell_type": "code",
   "execution_count": 39,
   "outputs": [
    {
     "data": {
      "text/plain": "True"
     },
     "execution_count": 39,
     "metadata": {},
     "output_type": "execute_result"
    }
   ],
   "source": [],
   "metadata": {
    "collapsed": false,
    "pycharm": {
     "name": "#%%\n"
    }
   }
  },
  {
   "cell_type": "code",
   "execution_count": null,
   "outputs": [],
   "source": [],
   "metadata": {
    "collapsed": false,
    "pycharm": {
     "name": "#%%\n"
    }
   }
  }
 ],
 "metadata": {
  "kernelspec": {
   "display_name": "Python 3",
   "language": "python",
   "name": "python3"
  },
  "language_info": {
   "codemirror_mode": {
    "name": "ipython",
    "version": 2
   },
   "file_extension": ".py",
   "mimetype": "text/x-python",
   "name": "python",
   "nbconvert_exporter": "python",
   "pygments_lexer": "ipython2",
   "version": "2.7.6"
  }
 },
 "nbformat": 4,
 "nbformat_minor": 0
}