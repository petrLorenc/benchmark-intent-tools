{
 "cells": [
  {
   "cell_type": "code",
   "execution_count": 2,
   "metadata": {
    "collapsed": true
   },
   "outputs": [],
   "source": [
    "import json"
   ]
  },
  {
   "cell_type": "code",
   "execution_count": 7,
   "outputs": [],
   "source": [
    "results = []\n",
    "\n",
    "for limit in range(1,25):\n",
    "    with open(\"./paper-data-limit-{}/Dense2_analysis.json\".format(limit)) as f:\n",
    "        res = json.load(f)\n",
    "        results.append(res[0][\"intents\"][0][\"f1\"])"
   ],
   "metadata": {
    "collapsed": false,
    "pycharm": {
     "name": "#%%\n"
    }
   }
  },
  {
   "cell_type": "code",
   "execution_count": 8,
   "outputs": [
    {
     "data": {
      "text/plain": "[0.47575757575757577,\n 0.6363636363636364,\n 0.6348484848484849,\n 0.6409090909090909,\n 0.6742424242424242,\n 0.6712121212121213,\n 0.6787878787878788,\n 0.7136363636363637,\n 0.753030303030303,\n 0.7545454545454545,\n 0.759090909090909,\n 0.7621212121212121,\n 0.7712121212121212,\n 0.7757575757575758,\n 0.7833333333333333,\n 0.7863636363636365,\n 0.7878787878787878,\n 0.7893939393939393,\n 0.793939393939394,\n 0.796969696969697,\n 0.7863636363636365,\n 0.7863636363636365,\n 0.8151515151515152,\n 0.8121212121212121]"
     },
     "execution_count": 8,
     "metadata": {},
     "output_type": "execute_result"
    }
   ],
   "source": [
    "results"
   ],
   "metadata": {
    "collapsed": false,
    "pycharm": {
     "name": "#%%\n"
    }
   }
  },
  {
   "cell_type": "code",
   "execution_count": 13,
   "outputs": [
    {
     "name": "stdout",
     "output_type": "stream",
     "text": [
      "./paper-data-limit/LogisticRegression_fasttextSW_analysis.json\n",
      "./paper-data-limit/LogisticRegression_analysis.json\n",
      "./paper-data-limit/Cosine_tfidf_analysis.json\n",
      "./paper-data-limit/LogisticRegression_fasttextSW_tfidf_analysis.json\n",
      "./paper-data-limit/Cosine_fasttextSW_analysis.json\n",
      "./paper-data-limit/LogisticRegression_tfidf_analysis.json\n",
      "./paper-data-limit/Cosine_fasttextSW_tfidf_analysis.json\n",
      "./paper-data-limit/Cosine_analysis.json\n",
      "./paper-data-limit-H-F/LogisticRegression_fasttextSW_analysis.json\n",
      "./paper-data-limit-H-F/LogisticRegression_analysis.json\n",
      "./paper-data-limit-H-F/Cosine_tfidf_analysis.json\n",
      "./paper-data-limit-H-F/LogisticRegression_fasttextSW_tfidf_analysis.json\n",
      "./paper-data-limit-H-F/Cosine_fasttextSW_analysis.json\n",
      "./paper-data-limit-H-F/LogisticRegression_tfidf_analysis.json\n",
      "./paper-data-limit-H-F/Cosine_fasttextSW_tfidf_analysis.json\n",
      "./paper-data-limit-H-F/Cosine_analysis.json\n",
      "./paper-data-limit-ONLYTRAIN-H-F-D/LogisticRegression_fasttextSW_analysis.json\n",
      "./paper-data-limit-ONLYTRAIN-H-F-D/LogisticRegression_analysis.json\n",
      "./paper-data-limit-ONLYTRAIN-H-F-D/Cosine_tfidf_analysis.json\n",
      "./paper-data-limit-ONLYTRAIN-H-F-D/LogisticRegression_fasttextSW_tfidf_analysis.json\n",
      "./paper-data-limit-ONLYTRAIN-H-F-D/Cosine_fasttextSW_analysis.json\n",
      "./paper-data-limit-ONLYTRAIN-H-F-D/LogisticRegression_tfidf_analysis.json\n",
      "./paper-data-limit-ONLYTRAIN-H-F-D/Cosine_fasttextSW_tfidf_analysis.json\n",
      "./paper-data-limit-ONLYTRAIN-H-F-D/Cosine_analysis.json\n",
      "./paper-data-limit-ONLYTEST-H-F-D/LogisticRegression_fasttextSW_analysis.json\n",
      "./paper-data-limit-ONLYTEST-H-F-D/LogisticRegression_analysis.json\n",
      "./paper-data-limit-ONLYTEST-H-F-D/Cosine_tfidf_analysis.json\n",
      "./paper-data-limit-ONLYTEST-H-F-D/LogisticRegression_fasttextSW_tfidf_analysis.json\n",
      "./paper-data-limit-ONLYTEST-H-F-D/Cosine_fasttextSW_analysis.json\n",
      "./paper-data-limit-ONLYTEST-H-F-D/LogisticRegression_tfidf_analysis.json\n",
      "./paper-data-limit-ONLYTEST-H-F-D/Cosine_fasttextSW_tfidf_analysis.json\n",
      "./paper-data-limit-ONLYTEST-H-F-D/Cosine_analysis.json\n",
      "./paper-data-limit-H-F-D/LogisticRegression_fasttextSW_analysis.json\n",
      "./paper-data-limit-H-F-D/LogisticRegression_analysis.json\n",
      "./paper-data-limit-H-F-D/Cosine_tfidf_analysis.json\n",
      "./paper-data-limit-H-F-D/LogisticRegression_fasttextSW_tfidf_analysis.json\n",
      "./paper-data-limit-H-F-D/Cosine_fasttextSW_analysis.json\n",
      "./paper-data-limit-H-F-D/LogisticRegression_tfidf_analysis.json\n",
      "./paper-data-limit-H-F-D/Cosine_fasttextSW_tfidf_analysis.json\n",
      "./paper-data-limit-H-F-D/Cosine_analysis.json\n"
     ]
    }
   ],
   "source": [
    "import os\n",
    "import json\n",
    "\n",
    "results_dict = {}\n",
    "\n",
    "for root, dirs, files in os.walk(\"./\"):\n",
    "    for file in files:\n",
    "        path = os.path.join(root, file)\n",
    "\n",
    "        if \"paper-data-limit\" in path and \"analysis\" in path:\n",
    "            print(path)\n",
    "            if path.split(\"/\")[-2] not in results_dict:\n",
    "                results_dict[path.split(\"/\")[-2]] = {}\n",
    "            with open(path) as f:\n",
    "                result = json.load(f)\n",
    "                results_dict[path.split(\"/\")[-2]][path.split(\"/\")[-1]] = result[0][\"intents\"][0][\"f1\"]\n",
    "\n"
   ],
   "metadata": {
    "collapsed": false,
    "pycharm": {
     "name": "#%%\n"
    }
   }
  },
  {
   "cell_type": "code",
   "execution_count": 14,
   "outputs": [
    {
     "data": {
      "text/plain": "{'paper-data-limit': {'LogisticRegression_fasttextSW_analysis.json': 0.9287878787878788,\n  'LogisticRegression_analysis.json': 0.953030303030303,\n  'Cosine_tfidf_analysis.json': 0.943939393939394,\n  'LogisticRegression_fasttextSW_tfidf_analysis.json': 0.9303030303030303,\n  'Cosine_fasttextSW_analysis.json': 0.9045454545454545,\n  'LogisticRegression_tfidf_analysis.json': 0.9515151515151515,\n  'Cosine_fasttextSW_tfidf_analysis.json': 0.9212121212121213,\n  'Cosine_analysis.json': 0.946969696969697},\n 'paper-data-limit-H-F': {'LogisticRegression_fasttextSW_analysis.json': 0.9272727272727272,\n  'LogisticRegression_analysis.json': 0.9454545454545454,\n  'Cosine_tfidf_analysis.json': 0.8636363636363636,\n  'LogisticRegression_fasttextSW_tfidf_analysis.json': 0.9303030303030303,\n  'Cosine_fasttextSW_analysis.json': 0.765151515151515,\n  'LogisticRegression_tfidf_analysis.json': 0.9484848484848485,\n  'Cosine_fasttextSW_tfidf_analysis.json': 0.8166666666666667,\n  'Cosine_analysis.json': 0.8196969696969697},\n 'paper-data-limit-ONLYTRAIN-H-F-D': {'LogisticRegression_fasttextSW_analysis.json': 0.9454545454545454,\n  'LogisticRegression_analysis.json': 0.9575757575757575,\n  'Cosine_tfidf_analysis.json': 0.9212121212121213,\n  'LogisticRegression_fasttextSW_tfidf_analysis.json': 0.9424242424242424,\n  'Cosine_fasttextSW_analysis.json': 0.8636363636363636,\n  'LogisticRegression_tfidf_analysis.json': 0.956060606060606,\n  'Cosine_fasttextSW_tfidf_analysis.json': 0.9121212121212121,\n  'Cosine_analysis.json': 0.9121212121212121},\n 'paper-data-limit-ONLYTEST-H-F-D': {'LogisticRegression_fasttextSW_analysis.json': 0.8590909090909091,\n  'LogisticRegression_analysis.json': 0.9121212121212121,\n  'Cosine_tfidf_analysis.json': 0.8242424242424242,\n  'LogisticRegression_fasttextSW_tfidf_analysis.json': 0.8318181818181818,\n  'Cosine_fasttextSW_analysis.json': 0.8045454545454547,\n  'LogisticRegression_tfidf_analysis.json': 0.8590909090909091,\n  'Cosine_fasttextSW_tfidf_analysis.json': 0.753030303030303,\n  'Cosine_analysis.json': 0.9136363636363637},\n 'paper-data-limit-H-F-D': {'LogisticRegression_fasttextSW_analysis.json': 0.9015151515151515,\n  'LogisticRegression_analysis.json': 0.9287878787878788,\n  'Cosine_tfidf_analysis.json': 0.8409090909090909,\n  'LogisticRegression_fasttextSW_tfidf_analysis.json': 0.906060606060606,\n  'Cosine_fasttextSW_analysis.json': 0.740909090909091,\n  'LogisticRegression_tfidf_analysis.json': 0.9227272727272727,\n  'Cosine_fasttextSW_tfidf_analysis.json': 0.8045454545454547,\n  'Cosine_analysis.json': 0.8015151515151515}}"
     },
     "execution_count": 14,
     "metadata": {},
     "output_type": "execute_result"
    }
   ],
   "source": [
    "results_dict"
   ],
   "metadata": {
    "collapsed": false,
    "pycharm": {
     "name": "#%%\n"
    }
   }
  },
  {
   "cell_type": "code",
   "execution_count": 20,
   "outputs": [
    {
     "name": "stdout",
     "output_type": "stream",
     "text": [
      "paper-data-limit\n",
      "LogisticRegression_fasttextSW_analysis.json\n",
      "0,9287878787878788\n",
      "LogisticRegression_analysis.json\n",
      "0,953030303030303\n",
      "Cosine_tfidf_analysis.json\n",
      "0,943939393939394\n",
      "LogisticRegression_fasttextSW_tfidf_analysis.json\n",
      "0,9303030303030303\n",
      "Cosine_fasttextSW_analysis.json\n",
      "0,9045454545454545\n",
      "LogisticRegression_tfidf_analysis.json\n",
      "0,9515151515151515\n",
      "Cosine_fasttextSW_tfidf_analysis.json\n",
      "0,9212121212121213\n",
      "Cosine_analysis.json\n",
      "0,946969696969697\n",
      "\n",
      "\n",
      "\n",
      "paper-data-limit-H-F\n",
      "LogisticRegression_fasttextSW_analysis.json\n",
      "0,9272727272727272\n",
      "LogisticRegression_analysis.json\n",
      "0,9454545454545454\n",
      "Cosine_tfidf_analysis.json\n",
      "0,8636363636363636\n",
      "LogisticRegression_fasttextSW_tfidf_analysis.json\n",
      "0,9303030303030303\n",
      "Cosine_fasttextSW_analysis.json\n",
      "0,765151515151515\n",
      "LogisticRegression_tfidf_analysis.json\n",
      "0,9484848484848485\n",
      "Cosine_fasttextSW_tfidf_analysis.json\n",
      "0,8166666666666667\n",
      "Cosine_analysis.json\n",
      "0,8196969696969697\n",
      "\n",
      "\n",
      "\n",
      "paper-data-limit-ONLYTRAIN-H-F-D\n",
      "LogisticRegression_fasttextSW_analysis.json\n",
      "0,9454545454545454\n",
      "LogisticRegression_analysis.json\n",
      "0,9575757575757575\n",
      "Cosine_tfidf_analysis.json\n",
      "0,9212121212121213\n",
      "LogisticRegression_fasttextSW_tfidf_analysis.json\n",
      "0,9424242424242424\n",
      "Cosine_fasttextSW_analysis.json\n",
      "0,8636363636363636\n",
      "LogisticRegression_tfidf_analysis.json\n",
      "0,956060606060606\n",
      "Cosine_fasttextSW_tfidf_analysis.json\n",
      "0,9121212121212121\n",
      "Cosine_analysis.json\n",
      "0,9121212121212121\n",
      "\n",
      "\n",
      "\n",
      "paper-data-limit-ONLYTEST-H-F-D\n",
      "LogisticRegression_fasttextSW_analysis.json\n",
      "0,8590909090909091\n",
      "LogisticRegression_analysis.json\n",
      "0,9121212121212121\n",
      "Cosine_tfidf_analysis.json\n",
      "0,8242424242424242\n",
      "LogisticRegression_fasttextSW_tfidf_analysis.json\n",
      "0,8318181818181818\n",
      "Cosine_fasttextSW_analysis.json\n",
      "0,8045454545454547\n",
      "LogisticRegression_tfidf_analysis.json\n",
      "0,8590909090909091\n",
      "Cosine_fasttextSW_tfidf_analysis.json\n",
      "0,753030303030303\n",
      "Cosine_analysis.json\n",
      "0,9136363636363637\n",
      "\n",
      "\n",
      "\n",
      "paper-data-limit-H-F-D\n",
      "LogisticRegression_fasttextSW_analysis.json\n",
      "0,9015151515151515\n",
      "LogisticRegression_analysis.json\n",
      "0,9287878787878788\n",
      "Cosine_tfidf_analysis.json\n",
      "0,8409090909090909\n",
      "LogisticRegression_fasttextSW_tfidf_analysis.json\n",
      "0,906060606060606\n",
      "Cosine_fasttextSW_analysis.json\n",
      "0,740909090909091\n",
      "LogisticRegression_tfidf_analysis.json\n",
      "0,9227272727272727\n",
      "Cosine_fasttextSW_tfidf_analysis.json\n",
      "0,8045454545454547\n",
      "Cosine_analysis.json\n",
      "0,8015151515151515\n",
      "\n",
      "\n",
      "\n"
     ]
    }
   ],
   "source": [
    "for dataset, r in results_dict.items():\n",
    "    print(dataset)\n",
    "    for key, value in r.items():\n",
    "        print(key)\n",
    "        print(str(value).replace(\".\", \",\"))\n",
    "\n",
    "    print()\n",
    "    print()\n",
    "    print()"
   ],
   "metadata": {
    "collapsed": false,
    "pycharm": {
     "name": "#%%\n"
    }
   }
  },
  {
   "cell_type": "code",
   "execution_count": null,
   "outputs": [],
   "source": [
    "\n"
   ],
   "metadata": {
    "collapsed": false,
    "pycharm": {
     "name": "#%%\n"
    }
   }
  }
 ],
 "metadata": {
  "kernelspec": {
   "display_name": "Python 3",
   "language": "python",
   "name": "python3"
  },
  "language_info": {
   "codemirror_mode": {
    "name": "ipython",
    "version": 2
   },
   "file_extension": ".py",
   "mimetype": "text/x-python",
   "name": "python",
   "nbconvert_exporter": "python",
   "pygments_lexer": "ipython2",
   "version": "2.7.6"
  }
 },
 "nbformat": 4,
 "nbformat_minor": 0
}